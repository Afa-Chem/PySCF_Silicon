{
  "nbformat": 4,
  "nbformat_minor": 0,
  "metadata": {
    "colab": {
      "provenance": [],
      "include_colab_link": true
    },
    "kernelspec": {
      "name": "python3",
      "display_name": "Python 3"
    },
    "language_info": {
      "name": "python"
    }
  },
  "cells": [
    {
      "cell_type": "markdown",
      "metadata": {
        "id": "view-in-github",
        "colab_type": "text"
      },
      "source": [
        "<a href=\"https://colab.research.google.com/github/Afa-Chem/Afa-Chem/blob/main/Cluster_Workshop.ipynb\" target=\"_parent\"><img src=\"https://colab.research.google.com/assets/colab-badge.svg\" alt=\"Open In Colab\"/></a>"
      ]
    },
    {
      "cell_type": "markdown",
      "source": [
        "# <font color='blue'><h1><center>**Silicon Clusters using DFT**</center></font>"
      ],
      "metadata": {
        "id": "Wl5EsH1COtGB"
      }
    },
    {
      "cell_type": "markdown",
      "source": [
        "## <font color='blue'>**Loading the packages**</font>"
      ],
      "metadata": {
        "id": "tYKDE2J4PUNd"
      }
    },
    {
      "cell_type": "code",
      "execution_count": null,
      "metadata": {
        "colab": {
          "base_uri": "https://localhost:8080/"
        },
        "id": "BW5PJsPcOMQe",
        "outputId": "5aebce91-462b-4f4e-8232-bc7a72f68861"
      },
      "outputs": [
        {
          "output_type": "stream",
          "name": "stdout",
          "text": [
            "Looking in indexes: https://pypi.org/simple, https://us-python.pkg.dev/colab-wheels/public/simple/\n",
            "Collecting ase\n",
            "  Downloading ase-3.22.1-py3-none-any.whl (2.2 MB)\n",
            "\u001b[2K     \u001b[90m━━━━━━━━━━━━━━━━━━━━━━━━━━━━━━━━━━━━━━━━\u001b[0m \u001b[32m2.2/2.2 MB\u001b[0m \u001b[31m17.8 MB/s\u001b[0m eta \u001b[36m0:00:00\u001b[0m\n",
            "\u001b[?25hRequirement already satisfied: matplotlib>=3.1.0 in /usr/local/lib/python3.10/dist-packages (from ase) (3.7.1)\n",
            "Requirement already satisfied: numpy>=1.15.0 in /usr/local/lib/python3.10/dist-packages (from ase) (1.22.4)\n",
            "Requirement already satisfied: scipy>=1.1.0 in /usr/local/lib/python3.10/dist-packages (from ase) (1.10.1)\n",
            "Requirement already satisfied: contourpy>=1.0.1 in /usr/local/lib/python3.10/dist-packages (from matplotlib>=3.1.0->ase) (1.0.7)\n",
            "Requirement already satisfied: cycler>=0.10 in /usr/local/lib/python3.10/dist-packages (from matplotlib>=3.1.0->ase) (0.11.0)\n",
            "Requirement already satisfied: fonttools>=4.22.0 in /usr/local/lib/python3.10/dist-packages (from matplotlib>=3.1.0->ase) (4.39.3)\n",
            "Requirement already satisfied: kiwisolver>=1.0.1 in /usr/local/lib/python3.10/dist-packages (from matplotlib>=3.1.0->ase) (1.4.4)\n",
            "Requirement already satisfied: packaging>=20.0 in /usr/local/lib/python3.10/dist-packages (from matplotlib>=3.1.0->ase) (23.1)\n",
            "Requirement already satisfied: pillow>=6.2.0 in /usr/local/lib/python3.10/dist-packages (from matplotlib>=3.1.0->ase) (8.4.0)\n",
            "Requirement already satisfied: pyparsing>=2.3.1 in /usr/local/lib/python3.10/dist-packages (from matplotlib>=3.1.0->ase) (3.0.9)\n",
            "Requirement already satisfied: python-dateutil>=2.7 in /usr/local/lib/python3.10/dist-packages (from matplotlib>=3.1.0->ase) (2.8.2)\n",
            "Requirement already satisfied: six>=1.5 in /usr/local/lib/python3.10/dist-packages (from python-dateutil>=2.7->matplotlib>=3.1.0->ase) (1.16.0)\n",
            "Installing collected packages: ase\n",
            "Successfully installed ase-3.22.1\n"
          ]
        }
      ],
      "source": [
        "pip install ase"
      ]
    },
    {
      "cell_type": "code",
      "source": [
        "pip install pyscf"
      ],
      "metadata": {
        "colab": {
          "base_uri": "https://localhost:8080/"
        },
        "id": "Gn_jXq29Oija",
        "outputId": "2ae30975-83cf-415f-fa97-e157914a8f64"
      },
      "execution_count": null,
      "outputs": [
        {
          "output_type": "stream",
          "name": "stdout",
          "text": [
            "Looking in indexes: https://pypi.org/simple, https://us-python.pkg.dev/colab-wheels/public/simple/\n",
            "Collecting pyscf\n",
            "  Downloading pyscf-2.2.1-cp310-cp310-manylinux_2_17_x86_64.manylinux2014_x86_64.whl (47.7 MB)\n",
            "\u001b[2K     \u001b[90m━━━━━━━━━━━━━━━━━━━━━━━━━━━━━━━━━━━━━━━━\u001b[0m \u001b[32m47.7/47.7 MB\u001b[0m \u001b[31m10.0 MB/s\u001b[0m eta \u001b[36m0:00:00\u001b[0m\n",
            "\u001b[?25hRequirement already satisfied: numpy!=1.16,!=1.17,>=1.13 in /usr/local/lib/python3.10/dist-packages (from pyscf) (1.22.4)\n",
            "Requirement already satisfied: scipy!=1.5.0,!=1.5.1 in /usr/local/lib/python3.10/dist-packages (from pyscf) (1.10.1)\n",
            "Requirement already satisfied: h5py>=2.7 in /usr/local/lib/python3.10/dist-packages (from pyscf) (3.8.0)\n",
            "Installing collected packages: pyscf\n",
            "Successfully installed pyscf-2.2.1\n"
          ]
        }
      ]
    },
    {
      "cell_type": "code",
      "source": [
        "from google.colab import drive\n",
        "drive.mount('/content/gdrive')"
      ],
      "metadata": {
        "colab": {
          "base_uri": "https://localhost:8080/"
        },
        "id": "WiwkRRiBOkgX",
        "outputId": "0b417be6-9eb2-450c-b65b-3dd26083f98e"
      },
      "execution_count": null,
      "outputs": [
        {
          "output_type": "stream",
          "name": "stdout",
          "text": [
            "Mounted at /content/gdrive\n"
          ]
        }
      ]
    },
    {
      "cell_type": "code",
      "source": [
        "!apt install povray"
      ],
      "metadata": {
        "colab": {
          "base_uri": "https://localhost:8080/"
        },
        "id": "MEIXPfqJpEAX",
        "outputId": "5f60e8ea-db2a-4409-e188-d85cadfac18d"
      },
      "execution_count": null,
      "outputs": [
        {
          "output_type": "stream",
          "name": "stdout",
          "text": [
            "Reading package lists... Done\n",
            "Building dependency tree       \n",
            "Reading state information... Done\n",
            "The following additional packages will be installed:\n",
            "  fonts-povray libsdl1.2debian povray-includes\n",
            "Suggested packages:\n",
            "  povray-doc povray-examples\n",
            "The following NEW packages will be installed:\n",
            "  fonts-povray libsdl1.2debian povray povray-includes\n",
            "0 upgraded, 4 newly installed, 0 to remove and 24 not upgraded.\n",
            "Need to get 1,739 kB of archives.\n",
            "After this operation, 5,789 kB of additional disk space will be used.\n",
            "Get:1 http://archive.ubuntu.com/ubuntu focal/universe amd64 fonts-povray all 1:3.7.0.8-4build1 [65.6 kB]\n",
            "Get:2 http://archive.ubuntu.com/ubuntu focal/universe amd64 libsdl1.2debian amd64 1.2.15+dfsg2-5 [175 kB]\n",
            "Get:3 http://archive.ubuntu.com/ubuntu focal/universe amd64 povray amd64 1:3.7.0.8-4build1 [1,275 kB]\n",
            "Get:4 http://archive.ubuntu.com/ubuntu focal/universe amd64 povray-includes all 1:3.7.0.8-4build1 [223 kB]\n",
            "Fetched 1,739 kB in 0s (5,183 kB/s)\n",
            "Selecting previously unselected package fonts-povray.\n",
            "(Reading database ... 122518 files and directories currently installed.)\n",
            "Preparing to unpack .../fonts-povray_1%3a3.7.0.8-4build1_all.deb ...\n",
            "Unpacking fonts-povray (1:3.7.0.8-4build1) ...\n",
            "Selecting previously unselected package libsdl1.2debian:amd64.\n",
            "Preparing to unpack .../libsdl1.2debian_1.2.15+dfsg2-5_amd64.deb ...\n",
            "Unpacking libsdl1.2debian:amd64 (1.2.15+dfsg2-5) ...\n",
            "Selecting previously unselected package povray.\n",
            "Preparing to unpack .../povray_1%3a3.7.0.8-4build1_amd64.deb ...\n",
            "Unpacking povray (1:3.7.0.8-4build1) ...\n",
            "Selecting previously unselected package povray-includes.\n",
            "Preparing to unpack .../povray-includes_1%3a3.7.0.8-4build1_all.deb ...\n",
            "Unpacking povray-includes (1:3.7.0.8-4build1) ...\n",
            "Setting up libsdl1.2debian:amd64 (1.2.15+dfsg2-5) ...\n",
            "Setting up fonts-povray (1:3.7.0.8-4build1) ...\n",
            "Setting up povray (1:3.7.0.8-4build1) ...\n",
            "Setting up povray-includes (1:3.7.0.8-4build1) ...\n",
            "Processing triggers for libc-bin (2.31-0ubuntu9.9) ...\n",
            "Processing triggers for man-db (2.9.1-1) ...\n",
            "Processing triggers for fontconfig (2.13.1-2ubuntu3) ...\n"
          ]
        }
      ]
    },
    {
      "cell_type": "markdown",
      "source": [
        "## <font color='blue'>**Initializing of molecule or cluster**</font>"
      ],
      "metadata": {
        "id": "6Xhk6qgJPQO7"
      }
    },
    {
      "cell_type": "code",
      "source": [
        "import pyscf\n",
        "\n",
        "mol_1 = pyscf.gto.Mole()\n",
        "mol_1.atom = '''\n",
        "  Si        0.000000    0.000000    2.004300\n",
        "  Si        0.000000    0.000000   -2.004300\n",
        "  Si        0.000000    1.220476    0.000000\n",
        "  Si        0.000000   -1.220476    0.000000\n",
        "'''\n",
        "mol_1.basis = '6-31g'\n",
        "mol_1.unit = 'AU'\n",
        "mol_1.build()"
      ],
      "metadata": {
        "colab": {
          "base_uri": "https://localhost:8080/"
        },
        "id": "JfN-k5InPKcM",
        "outputId": "634fa3ec-2eb2-4a84-e21e-0c97e66a30ae"
      },
      "execution_count": null,
      "outputs": [
        {
          "output_type": "execute_result",
          "data": {
            "text/plain": [
              "<pyscf.gto.mole.Mole at 0x7fa5a5acada0>"
            ]
          },
          "metadata": {},
          "execution_count": 5
        }
      ]
    },
    {
      "cell_type": "code",
      "source": [
        "import pyscf\n",
        "\n",
        "mol_2 = pyscf.gto.Mole()\n",
        "mol_2.atom = \"/content/gdrive/MyDrive/Colab Notebooks/Si4_Opt.xyz\"\n",
        "mol_2.basis = '6-31g' # Basis set to represent the orbitals of atoms\n",
        "mol_2.spin = 0 # Mole.spin is the number of unpaired electrons 2S, i.e. the difference between the number of alpha and beta electrons.\n",
        "mol_2.charge = 0 # Charge for the whole system \n",
        "mol_2.symmetry = True\n",
        "mol_2.build()"
      ],
      "metadata": {
        "colab": {
          "base_uri": "https://localhost:8080/"
        },
        "id": "7EQ5xCKZRMlr",
        "outputId": "78420bac-ddb1-4188-be19-0ac94391383f"
      },
      "execution_count": null,
      "outputs": [
        {
          "output_type": "execute_result",
          "data": {
            "text/plain": [
              "<pyscf.gto.mole.Mole at 0x7fa5a5acb520>"
            ]
          },
          "metadata": {},
          "execution_count": 6
        }
      ]
    },
    {
      "cell_type": "markdown",
      "source": [
        "## <font color='blue'>**Initial Settings**</font>"
      ],
      "metadata": {
        "id": "l2XsBVuyWoQq"
      }
    },
    {
      "cell_type": "code",
      "source": [
        "# Check cluster coordinates\n",
        "print(mol_2.atom_coords(unit='Bohr'))"
      ],
      "metadata": {
        "colab": {
          "base_uri": "https://localhost:8080/"
        },
        "id": "sEaxWneNRhjj",
        "outputId": "4236b6ff-899b-4da9-d3b9-ae5b84b17399"
      },
      "execution_count": null,
      "outputs": [
        {
          "output_type": "stream",
          "name": "stdout",
          "text": [
            "[[ 0.          0.          3.89468314]\n",
            " [ 0.          0.         -3.89468314]\n",
            " [ 0.          2.43198383  0.        ]\n",
            " [ 0.         -2.43198383  0.        ]]\n"
          ]
        }
      ]
    },
    {
      "cell_type": "code",
      "source": [
        "# Number of Electrons (14x4)\n",
        "\n",
        "mol_2.nelectron"
      ],
      "metadata": {
        "id": "4astLRVPX-4c",
        "colab": {
          "base_uri": "https://localhost:8080/"
        },
        "outputId": "c3b55559-e0a9-4492-e96e-e9d811c06da5"
      },
      "execution_count": null,
      "outputs": [
        {
          "output_type": "execute_result",
          "data": {
            "text/plain": [
              "56"
            ]
          },
          "metadata": {},
          "execution_count": 13
        }
      ]
    },
    {
      "cell_type": "code",
      "source": [
        "# Check Spin\n",
        "mol_2.spin"
      ],
      "metadata": {
        "colab": {
          "base_uri": "https://localhost:8080/"
        },
        "id": "eyEepvdBmbBz",
        "outputId": "c2b47aff-5331-4d01-9019-f6e9bd4bbae1"
      },
      "execution_count": null,
      "outputs": [
        {
          "output_type": "execute_result",
          "data": {
            "text/plain": [
              "0"
            ]
          },
          "metadata": {},
          "execution_count": 10
        }
      ]
    },
    {
      "cell_type": "code",
      "source": [
        "# Check Charge\n",
        "mol_2.charge"
      ],
      "metadata": {
        "colab": {
          "base_uri": "https://localhost:8080/"
        },
        "id": "Ebu1HteZpCDs",
        "outputId": "79daab7a-48b8-45d1-8a7e-2f67f2d53134"
      },
      "execution_count": null,
      "outputs": [
        {
          "output_type": "execute_result",
          "data": {
            "text/plain": [
              "0"
            ]
          },
          "metadata": {},
          "execution_count": 11
        }
      ]
    },
    {
      "cell_type": "code",
      "source": [
        "# Symmetry of the system \n",
        "mol_2.groupname"
      ],
      "metadata": {
        "colab": {
          "base_uri": "https://localhost:8080/",
          "height": 36
        },
        "id": "Ocgvet69pGEb",
        "outputId": "a80d811e-edaf-42b9-c065-f59019a66489"
      },
      "execution_count": null,
      "outputs": [
        {
          "output_type": "execute_result",
          "data": {
            "text/plain": [
              "'D2h'"
            ],
            "application/vnd.google.colaboratory.intrinsic+json": {
              "type": "string"
            }
          },
          "metadata": {},
          "execution_count": 12
        }
      ]
    },
    {
      "cell_type": "code",
      "source": [
        "# Max memory\n",
        "mol_2.max_memory = 4000 # MB"
      ],
      "metadata": {
        "id": "M-JZ2atPuuue"
      },
      "execution_count": null,
      "outputs": []
    },
    {
      "cell_type": "code",
      "source": [
        "from pyscf import gto\n",
        "gto.format_basis({'Si':'6-31g'})"
      ],
      "metadata": {
        "colab": {
          "base_uri": "https://localhost:8080/"
        },
        "id": "pJDM8gR6u0KH",
        "outputId": "6bbaabc7-4b49-424f-dd90-8dd4e8208271"
      },
      "execution_count": null,
      "outputs": [
        {
          "output_type": "execute_result",
          "data": {
            "text/plain": [
              "{'Si': [[0,\n",
              "   [16115.9, 0.00195948],\n",
              "   [2425.58, 0.0149288],\n",
              "   [553.867, 0.0728478],\n",
              "   [156.34, 0.24613],\n",
              "   [50.0683, 0.485914],\n",
              "   [17.0178, 0.325002]],\n",
              "  [0,\n",
              "   [292.718, -0.00278094],\n",
              "   [69.8731, -0.0357146],\n",
              "   [22.3363, -0.114985],\n",
              "   [8.15039, 0.0935634],\n",
              "   [3.13458, 0.603017],\n",
              "   [1.22543, 0.418959]],\n",
              "  [0, [1.72738, -0.24463], [0.572922, 0.00431572], [0.222192, 1.09818]],\n",
              "  [0, [0.0778369, 1.0]],\n",
              "  [1,\n",
              "   [292.718, 0.00443826],\n",
              "   [69.8731, 0.0326679],\n",
              "   [22.3363, 0.134721],\n",
              "   [8.15039, 0.328678],\n",
              "   [3.13458, 0.44964],\n",
              "   [1.22543, 0.261372]],\n",
              "  [1, [1.72738, -0.0177951], [0.572922, 0.253539], [0.222192, 0.800669]],\n",
              "  [1, [0.0778369, 1.0]]]}"
            ]
          },
          "metadata": {},
          "execution_count": 15
        }
      ]
    },
    {
      "cell_type": "code",
      "source": [
        "gto.mole.format_ecp({'Si':'lanl2dz'})"
      ],
      "metadata": {
        "colab": {
          "base_uri": "https://localhost:8080/"
        },
        "id": "9-EtN_VlvMiN",
        "outputId": "3f8a3c06-294e-4aa8-e84d-ddf05cefc26d"
      },
      "execution_count": null,
      "outputs": [
        {
          "output_type": "execute_result",
          "data": {
            "text/plain": [
              "{'Si': [10,\n",
              "  [[-1,\n",
              "    [[],\n",
              "     [[505.3137693, -10.0]],\n",
              "     [[103.2221026, -84.9236087],\n",
              "      [23.4569248, -30.329941],\n",
              "      [6.7505693, -12.1049046],\n",
              "      [2.160314, -1.8945408]],\n",
              "     [],\n",
              "     [],\n",
              "     [],\n",
              "     []]],\n",
              "   [0,\n",
              "    [[[689.4910719, 3.0]],\n",
              "     [[114.172851, 60.5206833]],\n",
              "     [[35.7424336, 201.3086137],\n",
              "      [9.4529586, 65.9399745],\n",
              "      [2.254359, 19.0300789]],\n",
              "     [],\n",
              "     [],\n",
              "     [],\n",
              "     []]],\n",
              "   [1,\n",
              "    [[[88.9379355, 5.0]],\n",
              "     [[76.7773538, 6.6413817]],\n",
              "     [[56.1480987, 247.5972416],\n",
              "      [21.1874014, 129.371538],\n",
              "      [6.8277276, 47.4617107],\n",
              "      [2.1001192, 11.7376574]],\n",
              "     [],\n",
              "     [],\n",
              "     [],\n",
              "     []]]]]}"
            ]
          },
          "metadata": {},
          "execution_count": 16
        }
      ]
    },
    {
      "cell_type": "markdown",
      "source": [
        "# <font color='blue'>**Visualizing the cluster**</font> 🎨"
      ],
      "metadata": {
        "id": "1Y9SN9uLxEVS"
      }
    },
    {
      "cell_type": "code",
      "source": [
        "from ase import Atoms\n",
        "from ase.io import read, write\n",
        "import ase.visualize\n",
        "import numpy as np\n",
        "\n",
        "# Read File XYZ\n",
        "si4 = read('/content/gdrive/MyDrive/Colab Notebooks/si4_bohr.xyz')\n",
        "\n",
        "# Positions and symbols of the file\n",
        "natoms = len(si4)\n",
        "positions = si4.positions\n",
        "positions = np.array(positions, ndmin=3) # This makes it a 3d array\n",
        "symbols = si4.symbols\n",
        "\n",
        "ase.visualize.view(si4, viewer=\"x3d\")"
      ],
      "metadata": {
        "colab": {
          "base_uri": "https://localhost:8080/",
          "height": 492
        },
        "id": "CL-heiQawzil",
        "outputId": "dd3cc209-ba23-4dd7-8607-095f15458062"
      },
      "execution_count": null,
      "outputs": [
        {
          "output_type": "execute_result",
          "data": {
            "text/plain": [
              "<IPython.core.display.HTML object>"
            ],
            "text/html": [
              "<html>\n",
              "\n",
              " <head>\n",
              "\n",
              "  <title>ASE atomic visualization</title>\n",
              "\n",
              "  <link rel=\"stylesheet\" type=\"text/css\"\n",
              "\n",
              "   href=\"https://www.x3dom.org/x3dom/release/x3dom.css\">\n",
              "\n",
              "  </link>\n",
              "\n",
              "  <script type=\"text/javascript\"\n",
              "\n",
              "   src=\"https://www.x3dom.org/x3dom/release/x3dom.js\">\n",
              "\n",
              "  </script>\n",
              "\n",
              " </head>\n",
              "\n",
              " <body>\n",
              "\n",
              "  <X3D>\n",
              "\n",
              "   <Scene>\n",
              "\n",
              "    <Transform translation=\"0.00 0.00 3.79\">\n",
              "\n",
              "     <Shape>\n",
              "\n",
              "      <Appearance>\n",
              "\n",
              "       <Material diffuseColor=\"0.941 0.784 0.627\" specularColor=\"0.5 0.5 0.5\">\n",
              "\n",
              "       </Material>\n",
              "\n",
              "      </Appearance>\n",
              "\n",
              "      <Sphere radius=\"1.11\">\n",
              "\n",
              "      </Sphere>\n",
              "\n",
              "     </Shape>\n",
              "\n",
              "    </Transform>\n",
              "\n",
              "    <Transform translation=\"0.00 0.00 -3.79\">\n",
              "\n",
              "     <Shape>\n",
              "\n",
              "      <Appearance>\n",
              "\n",
              "       <Material diffuseColor=\"0.941 0.784 0.627\" specularColor=\"0.5 0.5 0.5\">\n",
              "\n",
              "       </Material>\n",
              "\n",
              "      </Appearance>\n",
              "\n",
              "      <Sphere radius=\"1.11\">\n",
              "\n",
              "      </Sphere>\n",
              "\n",
              "     </Shape>\n",
              "\n",
              "    </Transform>\n",
              "\n",
              "    <Transform translation=\"0.00 2.31 0.00\">\n",
              "\n",
              "     <Shape>\n",
              "\n",
              "      <Appearance>\n",
              "\n",
              "       <Material diffuseColor=\"0.941 0.784 0.627\" specularColor=\"0.5 0.5 0.5\">\n",
              "\n",
              "       </Material>\n",
              "\n",
              "      </Appearance>\n",
              "\n",
              "      <Sphere radius=\"1.11\">\n",
              "\n",
              "      </Sphere>\n",
              "\n",
              "     </Shape>\n",
              "\n",
              "    </Transform>\n",
              "\n",
              "    <Transform translation=\"0.00 -2.31 0.00\">\n",
              "\n",
              "     <Shape>\n",
              "\n",
              "      <Appearance>\n",
              "\n",
              "       <Material diffuseColor=\"0.941 0.784 0.627\" specularColor=\"0.5 0.5 0.5\">\n",
              "\n",
              "       </Material>\n",
              "\n",
              "      </Appearance>\n",
              "\n",
              "      <Sphere radius=\"1.11\">\n",
              "\n",
              "      </Sphere>\n",
              "\n",
              "     </Shape>\n",
              "\n",
              "    </Transform>\n",
              "\n",
              "   </Scene>\n",
              "\n",
              "  </X3D>\n",
              "\n",
              " </body>\n",
              "\n",
              "</html>\n",
              "\n"
            ]
          },
          "metadata": {},
          "execution_count": 21
        }
      ]
    },
    {
      "cell_type": "code",
      "source": [
        "from ase.build.molecule import molecule\n",
        "#from ase.io.pov import get_bondpairs, set_high_bondorder_pairs\n",
        "\n",
        "renderer = write('si4.pov', si4, format='pov',rotation='90y', povray_settings=dict(canvas_width=1000))\n",
        "\n",
        "renderer.render()"
      ],
      "metadata": {
        "colab": {
          "base_uri": "https://localhost:8080/"
        },
        "id": "ITPT3sYTy6S_",
        "outputId": "73322886-ab69-4c09-93e6-8d599c62fe0f"
      },
      "execution_count": null,
      "outputs": [
        {
          "output_type": "execute_result",
          "data": {
            "text/plain": [
              "PosixPath('/content/si4.png')"
            ]
          },
          "metadata": {},
          "execution_count": 26
        }
      ]
    },
    {
      "cell_type": "markdown",
      "source": [
        "# <font color='blue'>**Self-Consistent Field (SCF)**</font> 💻\n",
        "\n",
        "In KS-DFT, the ground-state wavefunction is expressed as a single Slater determinant $\\Phi_0$ of molecular orbitals (MOs, $\\phi$), $\\Phi_0 = \\mathcal{A}|\\phi_1(1)\\phi_2(2)\\dots \\phi_n(N)⟩$. The total electronic energy $E = ⟨\\Phi_0|\\hat{H}|\\Phi_0⟩$ is minimized, subject to orbital orthogonality. Hartree-Fock can be solved by the equation\n",
        "\n",
        "$$\\mathbf{FC} = \\mathbf{SCE} $$\n",
        "\n",
        "Where $\\mathbf{C}$ is the matrix of molecular orbital coeffients, $\\mathbf{E}$ is the diagonal matrix of the corresponding eigenenergies, and $\\mathbf{S}$ is the atomic orbital overlap matrix. The Fock matrix $\\mathbf{F}$ is defined as \n",
        "\n",
        "$$ \\mathbf{F} = \\mathbf{T} + \\mathbf{V} + \\mathbf{J} + \\mathbf{K}$$\n",
        "\n",
        "Where $\\mathbf{T}$ is the kinetic energy matrix, $\\mathbf{V}$ is the external potential, $\\mathbf{J}$ is the Coulomb matrixm, and $\\mathbf{K}$ is the exchange matrix. \n",
        "\n",
        "Kohn-Sham Matrix:\n",
        "$$ \\mathbf{F_{\\mu \\mu}} = \\mathbf{H_{\\mu \\nu}} + \\mathbf{J_{\\mu \\nu}} + \\mathbf{V_{\\mu \\nu}^{xc}} $$ "
      ],
      "metadata": {
        "id": "c506uyOH1645"
      }
    },
    {
      "cell_type": "markdown",
      "source": [
        "#### **Restricted RHF/RKS**\n",
        "The spin-orbitals are either alpha (spin-up) or beta (spin-down), and the alpha and beta orbitals share the same spatial orbital. \n",
        "\n",
        "#### **Unrestricted UHF/UKS**\n",
        "The orbitals can have either alpha or beta spin, but the alpha and beta orbitals may have different spatial components. "
      ],
      "metadata": {
        "id": "eOG5nkFXBVYG"
      }
    },
    {
      "cell_type": "code",
      "source": [
        "#running SCF calculation\n",
        "mf_pbe = pyscf.scf.RKS(mol_2).set(xc='pbe').run()"
      ],
      "metadata": {
        "colab": {
          "base_uri": "https://localhost:8080/"
        },
        "id": "rSVraaE61ueU",
        "outputId": "1f0141d8-4db3-486c-969f-48fc7d6a2217"
      },
      "execution_count": null,
      "outputs": [
        {
          "output_type": "stream",
          "name": "stdout",
          "text": [
            "converged SCF energy = -1157.18791512678\n"
          ]
        }
      ]
    },
    {
      "cell_type": "code",
      "source": [
        "# Running SCF calculation with unrestricted approach\n",
        "mf_pbe_uks = pyscf.scf.UKS(mol_2).set(xc='pbe').run()"
      ],
      "metadata": {
        "colab": {
          "base_uri": "https://localhost:8080/"
        },
        "id": "hQodmUP9EcIA",
        "outputId": "56ac4e96-e7fb-404f-9765-1577e281c289"
      },
      "execution_count": null,
      "outputs": [
        {
          "output_type": "stream",
          "name": "stdout",
          "text": [
            "converged SCF energy = -1157.18791512771  <S^2> = 1.2754242e-12  2S+1 = 1\n"
          ]
        }
      ]
    },
    {
      "cell_type": "code",
      "source": [
        "# Energy components\n",
        "summary = mf_pbe.scf_summary\n",
        "print(summary)"
      ],
      "metadata": {
        "colab": {
          "base_uri": "https://localhost:8080/"
        },
        "id": "Pe7vXICVQeJZ",
        "outputId": "0ce95e26-f456-42f3-ca39-3a23f6466279"
      },
      "execution_count": null,
      "outputs": [
        {
          "output_type": "stream",
          "name": "stdout",
          "text": [
            "{'e1': -2074.671505053193, 'coul': 764.150995799666, 'exc': -82.8715547810465, 'nuc': 236.2041489077951}\n"
          ]
        }
      ]
    },
    {
      "cell_type": "code",
      "source": [
        "el = summary[list(summary.keys())[0]]\n",
        "coul = summary[list(summary.keys())[1]]\n",
        "exc = summary[list(summary.keys())[2]]\n",
        "nuc = summary[list(summary.keys())[3]]\n",
        "print('el = ', el)\n",
        "print('coul = ', coul)   \n",
        "print('exc = ', exc)\n",
        "print('nuc = ', nuc)\n",
        "print('Total Energy = ', el + coul + exc + nuc)                                                           "
      ],
      "metadata": {
        "colab": {
          "base_uri": "https://localhost:8080/"
        },
        "id": "Apv0oHueR0Tr",
        "outputId": "86934242-6cc0-4864-8e15-6e48908b9cc5"
      },
      "execution_count": null,
      "outputs": [
        {
          "output_type": "stream",
          "name": "stdout",
          "text": [
            "el =  -2074.671505053193\n",
            "coul =  764.150995799666\n",
            "exc =  -82.8715547810465\n",
            "nuc =  236.2041489077951\n",
            "Total Energy =  -1157.1879151267785\n"
          ]
        }
      ]
    },
    {
      "cell_type": "code",
      "source": [
        "# Orbital Energy\n",
        "orbitals = mf_pbe.mo_energy\n",
        "print(orbitals)"
      ],
      "metadata": {
        "colab": {
          "base_uri": "https://localhost:8080/"
        },
        "id": "DpOpKD19KWJn",
        "outputId": "d9e247b3-eb46-4618-b5fa-5a0f9550c56d"
      },
      "execution_count": null,
      "outputs": [
        {
          "output_type": "stream",
          "name": "stdout",
          "text": [
            "[-6.54505283e+01 -6.54505223e+01 -6.54272241e+01 -6.54272093e+01\n",
            " -5.09473363e+00 -5.09471789e+00 -5.07653688e+00 -5.07649968e+00\n",
            " -3.50895722e+00 -3.50895478e+00 -3.50507249e+00 -3.50507170e+00\n",
            " -3.50220524e+00 -3.50220180e+00 -3.48942364e+00 -3.48942147e+00\n",
            " -3.48643211e+00 -3.48627722e+00 -3.48495016e+00 -3.48494808e+00\n",
            " -5.66204635e-01 -4.54580874e-01 -3.83729479e-01 -3.17732054e-01\n",
            " -2.45992755e-01 -2.42898085e-01 -2.15204128e-01 -2.05723217e-01\n",
            " -1.64422735e-01 -1.25787784e-01 -1.14760127e-01 -8.32369813e-02\n",
            " -3.07399697e-02 -2.68896527e-02  1.20763222e-02  2.46459399e-02\n",
            "  1.65317297e-01  1.96150536e-01  1.97865882e-01  2.03401264e-01\n",
            "  2.20816879e-01  2.27284916e-01  2.30158543e-01  2.32408904e-01\n",
            "  2.33888597e-01  2.39266294e-01  2.59682039e-01  2.68996701e-01\n",
            "  3.01471901e-01  3.08116993e-01  3.19095274e-01  3.26127665e-01]\n"
          ]
        }
      ]
    },
    {
      "cell_type": "code",
      "source": [
        "# Orbital Occupation\n",
        "print(mf_pbe_uks.mo_occ)"
      ],
      "metadata": {
        "colab": {
          "base_uri": "https://localhost:8080/"
        },
        "id": "NpeQx2xTX_Z_",
        "outputId": "b1e10d57-7119-4626-aa0d-77e6761529e4"
      },
      "execution_count": null,
      "outputs": [
        {
          "output_type": "stream",
          "name": "stdout",
          "text": [
            "(array([1., 1., 1., 1., 1., 1., 1., 1., 1., 1., 1., 1., 1., 1., 1., 1., 1.,\n",
            "       1., 1., 1., 1., 1., 1., 1., 1., 1., 1., 1., 0., 0., 0., 0., 0., 0.,\n",
            "       0., 0., 0., 0., 0., 0., 0., 0., 0., 0., 0., 0., 0., 0., 0., 0., 0.,\n",
            "       0.]), array([1., 1., 1., 1., 1., 1., 1., 1., 1., 1., 1., 1., 1., 1., 1., 1., 1.,\n",
            "       1., 1., 1., 1., 1., 1., 1., 1., 1., 1., 1., 0., 0., 0., 0., 0., 0.,\n",
            "       0., 0., 0., 0., 0., 0., 0., 0., 0., 0., 0., 0., 0., 0., 0., 0., 0.,\n",
            "       0.]))\n"
          ]
        }
      ]
    },
    {
      "cell_type": "markdown",
      "source": [
        "# <font color='blue'>**Geometry Optimization**</font> "
      ],
      "metadata": {
        "id": "lGEplGMeT-nL"
      }
    },
    {
      "cell_type": "code",
      "source": [
        "pip install geomeTRIC"
      ],
      "metadata": {
        "colab": {
          "base_uri": "https://localhost:8080/"
        },
        "id": "YbiNccCmT9gq",
        "outputId": "0a718bb4-d1ff-4401-d67b-5a75c0a3e235"
      },
      "execution_count": null,
      "outputs": [
        {
          "output_type": "stream",
          "name": "stdout",
          "text": [
            "Looking in indexes: https://pypi.org/simple, https://us-python.pkg.dev/colab-wheels/public/simple/\n",
            "Collecting geomeTRIC\n",
            "  Downloading geometric-1.0.tar.gz (347 kB)\n",
            "\u001b[2K     \u001b[90m━━━━━━━━━━━━━━━━━━━━━━━━━━━━━━━━━━━━━━━\u001b[0m \u001b[32m347.9/347.9 kB\u001b[0m \u001b[31m6.9 MB/s\u001b[0m eta \u001b[36m0:00:00\u001b[0m\n",
            "\u001b[?25h  Preparing metadata (setup.py) ... \u001b[?25l\u001b[?25hdone\n",
            "Requirement already satisfied: numpy>=1.11 in /usr/local/lib/python3.10/dist-packages (from geomeTRIC) (1.22.4)\n",
            "Requirement already satisfied: networkx in /usr/local/lib/python3.10/dist-packages (from geomeTRIC) (3.1)\n",
            "Requirement already satisfied: six in /usr/local/lib/python3.10/dist-packages (from geomeTRIC) (1.16.0)\n",
            "Building wheels for collected packages: geomeTRIC\n",
            "  Building wheel for geomeTRIC (setup.py) ... \u001b[?25l\u001b[?25hdone\n",
            "  Created wheel for geomeTRIC: filename=geometric-1.0-py3-none-any.whl size=358353 sha256=f41d7e10891d7c686b6825f39c9f3c7f3894ce2bf75c93a6e322a527835ecbce\n",
            "  Stored in directory: /root/.cache/pip/wheels/c8/bd/7d/bb40a779e3376a64ed115b6c74bfb47ee4aeffc8d10b157076\n",
            "Successfully built geomeTRIC\n",
            "Installing collected packages: geomeTRIC\n",
            "Successfully installed geomeTRIC-1.0\n"
          ]
        }
      ]
    },
    {
      "cell_type": "code",
      "source": [
        "from pyscf.geomopt.geometric_solver import optimize\n",
        "\n",
        "conv_params = { # These are the default settings\n",
        "    'convergence_energy': 1e-6,  # Eh\n",
        "    'convergence_grms': 3e-4,    # Eh/Bohr   Gradient RMS\n",
        "    'convergence_gmax': 4.5e-4,  # Eh/Bohr   Gradiente Max\n",
        "    'convergence_drms': 1.2e-3,  # Angstrom  Displacement RMS\n",
        "    'convergence_dmax': 1.8e-3,  # Angstrom  Displacement Max\n",
        "}\n",
        "#mol_eq = optimize(mf_pbe, **conv_params, maxsteps = 400)\n",
        "mol_eq = mf_pbe.Gradients().optimizer(solver='geomeTRIC').kernel(conv_params)"
      ],
      "metadata": {
        "colab": {
          "base_uri": "https://localhost:8080/"
        },
        "id": "yZjG3SssXUpc",
        "outputId": "78df94f5-e1f9-452a-ab66-c9cb9bbb88ae"
      },
      "execution_count": null,
      "outputs": [
        {
          "output_type": "stream",
          "name": "stderr",
          "text": [
            "geometric-optimize called with the following command line:\n",
            "/usr/local/lib/python3.10/dist-packages/ipykernel_launcher.py -f /root/.local/share/jupyter/runtime/kernel-cdf56845-1c50-40de-b869-e67bc23d2e43.json\n",
            "\n",
            "                                        \u001b[91m())))))))))))))))/\u001b[0m                     \n",
            "                                    \u001b[91m())))))))))))))))))))))))),\u001b[0m                \n",
            "                                \u001b[91m*)))))))))))))))))))))))))))))))))\u001b[0m             \n",
            "                        \u001b[94m#,\u001b[0m    \u001b[91m()))))))))/\u001b[0m                \u001b[91m.)))))))))),\u001b[0m          \n",
            "                      \u001b[94m#%%%%,\u001b[0m  \u001b[91m())))))\u001b[0m                        \u001b[91m.))))))))*\u001b[0m        \n",
            "                      \u001b[94m*%%%%%%,\u001b[0m  \u001b[91m))\u001b[0m              \u001b[93m..\u001b[0m              \u001b[91m,))))))).\u001b[0m      \n",
            "                        \u001b[94m*%%%%%%,\u001b[0m         \u001b[93m***************/.\u001b[0m        \u001b[91m.)))))))\u001b[0m     \n",
            "                \u001b[94m#%%/\u001b[0m      \u001b[94m(%%%%%%,\u001b[0m    \u001b[93m/*********************.\u001b[0m       \u001b[91m)))))))\u001b[0m    \n",
            "              \u001b[94m.%%%%%%#\u001b[0m      \u001b[94m*%%%%%%,\u001b[0m  \u001b[93m*******/,\u001b[0m     \u001b[93m**********,\u001b[0m      \u001b[91m.))))))\u001b[0m   \n",
            "                \u001b[94m.%%%%%%/\u001b[0m      \u001b[94m*%%%%%%,\u001b[0m  \u001b[93m**\u001b[0m              \u001b[93m********\u001b[0m      \u001b[91m.))))))\u001b[0m  \n",
            "          \u001b[94m##\u001b[0m      \u001b[94m.%%%%%%/\u001b[0m      \u001b[94m(%%%%%%,\u001b[0m                  \u001b[93m,******\u001b[0m      \u001b[91m/)))))\u001b[0m  \n",
            "        \u001b[94m%%%%%%\u001b[0m      \u001b[94m.%%%%%%#\u001b[0m      \u001b[94m*%%%%%%,\u001b[0m    \u001b[92m,/////.\u001b[0m       \u001b[93m******\u001b[0m      \u001b[91m))))))\u001b[0m \n",
            "      \u001b[94m#%\u001b[0m      \u001b[94m%%\u001b[0m      \u001b[94m.%%%%%%/\u001b[0m      \u001b[94m*%%%%%%,\u001b[0m  \u001b[92m////////,\u001b[0m      \u001b[93m*****/\u001b[0m     \u001b[91m,)))))\u001b[0m \n",
            "    \u001b[94m#%%\u001b[0m  \u001b[94m%%%\u001b[0m  \u001b[94m%%%#\u001b[0m      \u001b[94m.%%%%%%/\u001b[0m      \u001b[94m(%%%%%%,\u001b[0m  \u001b[92m///////.\u001b[0m     \u001b[93m/*****\u001b[0m      \u001b[91m))))).\u001b[0m\n",
            "  \u001b[94m#%%%%.\u001b[0m      \u001b[94m%%%%%#\u001b[0m      \u001b[94m/%%%%%%*\u001b[0m      \u001b[94m#%%%%%%\u001b[0m   \u001b[92m/////)\u001b[0m     \u001b[93m******\u001b[0m      \u001b[91m))))),\u001b[0m\n",
            "    \u001b[94m#%%%%##%\u001b[0m  \u001b[94m%%%#\u001b[0m      \u001b[94m.%%%%%%/\u001b[0m      \u001b[94m(%%%%%%,\u001b[0m  \u001b[92m///////.\u001b[0m     \u001b[93m/*****\u001b[0m      \u001b[91m))))).\u001b[0m\n",
            "      \u001b[94m##\u001b[0m     \u001b[94m%%%\u001b[0m      \u001b[94m.%%%%%%/\u001b[0m      \u001b[94m*%%%%%%,\u001b[0m  \u001b[92m////////.\u001b[0m      \u001b[93m*****/\u001b[0m     \u001b[91m,)))))\u001b[0m \n",
            "        \u001b[94m#%%%%#\u001b[0m      \u001b[94m/%%%%%%/\u001b[0m      \u001b[94m(%%%%%%\u001b[0m      \u001b[92m/)/)//\u001b[0m       \u001b[93m******\u001b[0m      \u001b[91m))))))\u001b[0m \n",
            "          \u001b[94m##\u001b[0m      \u001b[94m.%%%%%%/\u001b[0m      \u001b[94m(%%%%%%,\u001b[0m                  \u001b[93m*******\u001b[0m      \u001b[91m))))))\u001b[0m  \n",
            "                \u001b[94m.%%%%%%/\u001b[0m      \u001b[94m*%%%%%%,\u001b[0m  \u001b[93m**.\u001b[0m             \u001b[93m/*******\u001b[0m      \u001b[91m.))))))\u001b[0m  \n",
            "              \u001b[94m*%%%%%%/\u001b[0m      \u001b[94m(%%%%%%\u001b[0m   \u001b[93m********/*..,*/*********\u001b[0m       \u001b[91m*))))))\u001b[0m   \n",
            "                \u001b[94m#%%/\u001b[0m      \u001b[94m(%%%%%%,\u001b[0m    \u001b[93m*********************/\u001b[0m        \u001b[91m)))))))\u001b[0m    \n",
            "                        \u001b[94m*%%%%%%,\u001b[0m         \u001b[93m,**************/\u001b[0m         \u001b[91m,))))))/\u001b[0m     \n",
            "                      \u001b[94m(%%%%%%\u001b[0m   \u001b[91m()\u001b[0m                              \u001b[91m))))))))\u001b[0m       \n",
            "                      \u001b[94m#%%%%,\u001b[0m  \u001b[91m())))))\u001b[0m                        \u001b[91m,)))))))),\u001b[0m        \n",
            "                        \u001b[94m#,\u001b[0m    \u001b[91m())))))))))\u001b[0m                \u001b[91m,)))))))))).\u001b[0m          \n",
            "                                 \u001b[91m()))))))))))))))))))))))))))))))/\u001b[0m             \n",
            "                                    \u001b[91m())))))))))))))))))))))))).\u001b[0m                \n",
            "                                         \u001b[91m())))))))))))))),\u001b[0m                     \n",
            "\n",
            "-=# \u001b[1;94m geomeTRIC started. Version: 1.0 \u001b[0m #=-\n",
            "Current date and time: 2023-05-11 18:55:41\n",
            "Custom engine selected.\n",
            "Bonds will be generated from interatomic distances less than 1.20 times sum of covalent radii\n",
            "12 internal coordinates being used (instead of 12 Cartesians)\n",
            "Internal coordinate system (atoms numbered from 1):\n",
            "Distance 1-3\n",
            "Distance 1-4\n",
            "Distance 2-3\n",
            "Distance 2-4\n",
            "Distance 3-4\n",
            "Angle 3-1-4\n",
            "Angle 3-2-4\n",
            "Angle 1-3-4\n",
            "Angle 2-3-4\n",
            "Angle 1-4-3\n",
            "Angle 2-4-3\n",
            "Out-of-Plane 3-1-2-4\n",
            "Out-of-Plane 4-1-2-3\n",
            "Dihedral 4-1-3-2\n",
            "Dihedral 3-1-4-2\n",
            "Dihedral 4-2-3-1\n",
            "Dihedral 3-2-4-1\n",
            "Dihedral 1-3-4-2\n",
            "Dihedral 2-3-4-1\n",
            "Translation-X 1-4\n",
            "Translation-Y 1-4\n",
            "Translation-Z 1-4\n",
            "Rotation-A 1-4\n",
            "Rotation-B 1-4\n",
            "Rotation-C 1-4\n",
            "<class 'geometric.internal.Distance'> : 5\n",
            "<class 'geometric.internal.Angle'> : 6\n",
            "<class 'geometric.internal.OutOfPlane'> : 2\n",
            "<class 'geometric.internal.Dihedral'> : 6\n",
            "<class 'geometric.internal.TranslationX'> : 1\n",
            "<class 'geometric.internal.TranslationY'> : 1\n",
            "<class 'geometric.internal.TranslationZ'> : 1\n",
            "<class 'geometric.internal.RotationA'> : 1\n",
            "<class 'geometric.internal.RotationB'> : 1\n",
            "<class 'geometric.internal.RotationC'> : 1\n",
            "> ===== Optimization Info: ====\n",
            "> Job type: Energy minimization\n",
            "> Maximum number of optimization cycles: 300\n",
            "> Initial / maximum trust radius (Angstrom): 0.100 / 0.300\n",
            "> Convergence Criteria:\n",
            "> Will converge when all 5 criteria are reached:\n",
            ">  |Delta-E| < 1.00e-06\n",
            ">  RMS-Grad  < 3.00e-04\n",
            ">  Max-Grad  < 4.50e-04\n",
            ">  RMS-Disp  < 1.20e-03\n",
            ">  Max-Disp  < 1.80e-03\n",
            "> === End Optimization Info ===\n"
          ]
        },
        {
          "output_type": "stream",
          "name": "stdout",
          "text": [
            "\n",
            "Geometry optimization cycle 1\n",
            "Cartesian coordinates (Angstrom)\n",
            " Atom        New coordinates             dX        dY        dZ\n",
            "  Si   0.000000   0.000000   2.060978    0.000000  0.000000  0.000000\n",
            "  Si   0.000000   0.000000  -2.060978    0.000000  0.000000  0.000000\n",
            "  Si   0.000000   1.286950   0.000000    0.000000  0.000000  0.000000\n",
            "  Si   0.000000  -1.286950   0.000000    0.000000  0.000000  0.000000\n",
            "converged SCF energy = -1157.18791512675\n",
            "--------------- SCF_Scanner gradients ---------------\n",
            "         x                y                z\n",
            "0 Si     0.0000000000     0.0000000000     0.0000223029\n",
            "1 Si     0.0000000000     0.0000000000    -0.0000223029\n",
            "2 Si     0.0000000000     0.0000138769     0.0000000000\n",
            "3 Si     0.0000000000    -0.0000138769     0.0000000000\n",
            "----------------------------------------------\n",
            "cycle 1: E = -1157.18791513  dE = -1157.19  norm(grad) = 3.7148e-05\n"
          ]
        },
        {
          "output_type": "stream",
          "name": "stderr",
          "text": [
            "Step    0 : Gradient = 1.857e-05/2.230e-05 (rms/max) Energy = -1157.1879151268\n",
            "Hessian Eigenvalues: 3.35522e-02 5.00000e-02 5.00000e-02 ... 1.23299e-01 1.23299e-01 1.23828e-01\n"
          ]
        },
        {
          "output_type": "stream",
          "name": "stdout",
          "text": [
            "\n",
            "Geometry optimization cycle 2\n",
            "Cartesian coordinates (Angstrom)\n",
            " Atom        New coordinates             dX        dY        dZ\n",
            "  Si  -0.000000   0.000000   2.060915   -0.000000  0.000000 -0.000063\n",
            "  Si   0.000000   0.000000  -2.060915    0.000000  0.000000  0.000063\n",
            "  Si  -0.000000   1.286938   0.000000   -0.000000 -0.000012  0.000000\n",
            "  Si   0.000000  -1.286938   0.000000    0.000000  0.000012  0.000000\n",
            "converged SCF energy = -1157.18791513105\n",
            "--------------- SCF_Scanner gradients ---------------\n",
            "         x                y                z\n",
            "0 Si     0.0000000000     0.0000000000     0.0000068394\n",
            "1 Si     0.0000000000     0.0000000000    -0.0000068394\n",
            "2 Si     0.0000000000     0.0000054066     0.0000000000\n",
            "3 Si     0.0000000000    -0.0000054066     0.0000000000\n",
            "----------------------------------------------\n",
            "cycle 2: E = -1157.18791513  dE = -4.29191e-09  norm(grad) = 1.23296e-05\n"
          ]
        },
        {
          "output_type": "stream",
          "name": "stderr",
          "text": [
            "Step    1 : Displace = \u001b[92m4.528e-05\u001b[0m/\u001b[92m6.290e-05\u001b[0m (rms/max) Trust = 1.000e-01 (=) Grad = \u001b[92m6.165e-06\u001b[0m/\u001b[92m6.839e-06\u001b[0m (rms/max) E (change) = -1157.1879151310 (\u001b[92m-4.292e-09\u001b[0m) Quality = \u001b[0m1.447\u001b[0m\n",
            "Hessian Eigenvalues: 3.35522e-02 5.00000e-02 5.00000e-02 ... 1.23299e-01 1.23299e-01 1.23828e-01\n",
            "Converged! =D\n",
            "\n",
            "    #==========================================================================#\n",
            "    #| If this code has benefited your research, please support us by citing: |#\n",
            "    #|                                                                        |#\n",
            "    #| Wang, L.-P.; Song, C.C. (2016) \"Geometry optimization made simple with |#\n",
            "    #| translation and rotation coordinates\", J. Chem, Phys. 144, 214108.     |#\n",
            "    #| http://dx.doi.org/10.1063/1.4952956                                    |#\n",
            "    #==========================================================================#\n",
            "    Time elapsed since start of run_optimizer: 28.892 seconds\n"
          ]
        }
      ]
    },
    {
      "cell_type": "code",
      "source": [
        "# Optimized Coordinates\n",
        "coor_opt = mol_eq.atom_coords()\n",
        "print(coor_opt)"
      ],
      "metadata": {
        "id": "esfvqCITXT-r",
        "colab": {
          "base_uri": "https://localhost:8080/"
        },
        "outputId": "41758329-4a8a-4ee8-c196-a37fb8d3e66a"
      },
      "execution_count": null,
      "outputs": [
        {
          "output_type": "stream",
          "name": "stdout",
          "text": [
            "[[ 0.          0.          3.89456428]\n",
            " [ 0.          0.         -3.89456428]\n",
            " [ 0.          2.43196107  0.        ]\n",
            " [ 0.         -2.43196107  0.        ]]\n"
          ]
        }
      ]
    },
    {
      "cell_type": "markdown",
      "source": [
        "# <font color='blue'>**Properties**</font> "
      ],
      "metadata": {
        "id": "Oh3-kg12c_bI"
      }
    },
    {
      "cell_type": "code",
      "source": [
        "import pyscf\n",
        "\n",
        "# -------  si1\n",
        "si1 = pyscf.gto.Mole()\n",
        "si1.atom = \"/content/gdrive/MyDrive/Colab Notebooks/si1.xyz\"\n",
        "si1.basis = '6-31g' # Basis set to represent the orbitals of atoms\n",
        "si1.spin = 2 # Mole.spin is the number of unpaired electrons 2S, i.e. the difference between the number of alpha and beta electrons.\n",
        "si1.charge = 0 # Charge for the whole system \n",
        "si1.build()\n",
        "# -------  si2\n",
        "si2 = pyscf.gto.Mole()\n",
        "si2.atom = \"/content/gdrive/MyDrive/Colab Notebooks/Si2_Opt.xyz\"\n",
        "si2.basis = '6-31g' # Basis set to represent the orbitals of atoms\n",
        "si2.spin = 2 # Mole.spin is the number of unpaired electrons 2S, i.e. the difference between the number of alpha and beta electrons.\n",
        "si2.charge = 0 # Charge for the whole system \n",
        "si2.build()\n",
        "\n",
        "# -------  si3\n",
        "si3 = pyscf.gto.Mole()\n",
        "si3.atom = \"/content/gdrive/MyDrive/Colab Notebooks/Si3_Opt.xyz\"\n",
        "si3.basis = '6-31g' # Basis set to represent the orbitals of atoms\n",
        "si3.spin = 0 # Mole.spin is the number of unpaired electrons 2S, i.e. the difference between the number of alpha and beta electrons.\n",
        "si3.charge = 0 # Charge for the whole system \n",
        "si3.build()\n",
        "# -------  si4\n",
        "si4 = pyscf.gto.Mole()\n",
        "si4.atom = \"/content/gdrive/MyDrive/Colab Notebooks/Si4_Opt.xyz\"\n",
        "si4.basis = '6-31g' # Basis set to represent the orbitals of atoms\n",
        "si4.spin = 0 # Mole.spin is the number of unpaired electrons 2S, i.e. the difference between the number of alpha and beta electrons.\n",
        "si4.charge = 0 # Charge for the whole system \n",
        "si4.build()\n",
        "# -------  si5\n",
        "si5 = pyscf.gto.Mole()\n",
        "si5.atom = \"/content/gdrive/MyDrive/Colab Notebooks/Si5_Opt.xyz\"\n",
        "si5.basis = '6-31g' # Basis set to represent the orbitals of atoms\n",
        "si5.spin = 0 # Mole.spin is the number of unpaired electrons 2S, i.e. the difference between the number of alpha and beta electrons.\n",
        "si5.charge = 0 # Charge for the whole system \n",
        "si5.build()\n",
        "# -------  si6\n",
        "si6 = pyscf.gto.Mole()\n",
        "si6.atom = \"/content/gdrive/MyDrive/Colab Notebooks/Si6_Opt.xyz\"\n",
        "si6.basis = '6-31g' # Basis set to represent the orbitals of atoms\n",
        "si6.spin = 0 # Mole.spin is the number of unpaired electrons 2S, i.e. the difference between the number of alpha and beta electrons.\n",
        "si6.charge = 0 # Charge for the whole system \n",
        "si6.build()\n",
        "# -------  si7\n",
        "si7 = pyscf.gto.Mole()\n",
        "si7.atom = \"/content/gdrive/MyDrive/Colab Notebooks/Si7_Opt.xyz\"\n",
        "si7.basis = '6-31g' # Basis set to represent the orbitals of atoms\n",
        "si7.spin = 0 # Mole.spin is the number of unpaired electrons 2S, i.e. the difference between the number of alpha and beta electrons.\n",
        "si7.charge = 0 # Charge for the whole system \n",
        "si7.build()\n",
        "# -------  si8\n",
        "si8 = pyscf.gto.Mole()\n",
        "si8.atom = \"/content/gdrive/MyDrive/Colab Notebooks/Si8_Opt.xyz\"\n",
        "si8.basis = '6-31g' # Basis set to represent the orbitals of atoms\n",
        "si8.spin = 0 # Mole.spin is the number of unpaired electrons 2S, i.e. the difference between the number of alpha and beta electrons.\n",
        "si8.charge = 0 # Charge for the whole system \n",
        "si8.build()"
      ],
      "metadata": {
        "id": "BehK7uMVduOt",
        "colab": {
          "base_uri": "https://localhost:8080/"
        },
        "outputId": "f0db492b-5eaa-462b-e121-ecafb3edaf38"
      },
      "execution_count": null,
      "outputs": [
        {
          "output_type": "execute_result",
          "data": {
            "text/plain": [
              "<pyscf.gto.mole.Mole at 0x7fa56f93b370>"
            ]
          },
          "metadata": {},
          "execution_count": 37
        }
      ]
    },
    {
      "cell_type": "code",
      "source": [
        "mf_si1 = pyscf.scf.UKS(si1).set(xc='pbe').run()\n",
        "mf_si2 = pyscf.scf.UKS(si2).set(xc='pbe').run()\n",
        "mf_si3 = pyscf.scf.RKS(si3).set(xc='pbe').run()\n",
        "mf_si4 = pyscf.scf.RKS(si4).set(xc='pbe').run()\n",
        "mf_si5 = pyscf.scf.RKS(si5).set(xc='pbe').run()\n",
        "mf_si6 = pyscf.scf.RKS(si6).set(xc='pbe').run()\n",
        "mf_si7 = pyscf.scf.RKS(si7).set(xc='pbe').run()\n",
        "mf_si8 = pyscf.scf.RKS(si8).set(xc='pbe').run()"
      ],
      "metadata": {
        "colab": {
          "base_uri": "https://localhost:8080/"
        },
        "id": "LW9rzGeNIoVc",
        "outputId": "9b58e15d-38da-4f43-bdca-ec6328c48043"
      },
      "execution_count": null,
      "outputs": [
        {
          "output_type": "stream",
          "name": "stdout",
          "text": [
            "converged SCF energy = -289.198910824423  <S^2> = 2.0000011  2S+1 = 3.0000007\n",
            "converged SCF energy = -578.507733081168  <S^2> = 2.0013066  2S+1 = 3.0008709\n",
            "converged SCF energy = -867.841928902121\n",
            "converged SCF energy = -1157.18791512678\n",
            "converged SCF energy = -1446.5130728305\n",
            "converged SCF energy = -1735.84410717015\n",
            "converged SCF energy = -2025.18408149698\n",
            "converged SCF energy = -2314.47864058627\n"
          ]
        }
      ]
    },
    {
      "cell_type": "code",
      "source": [
        "import matplotlib.pyplot as plt\n",
        "import numpy as np\n",
        "\n",
        "y_si1 = mf_si1.mo_energy\n",
        "y_si2 = mf_si2.mo_energy\n",
        "y_si3 = mf_si3.mo_energy\n",
        "y_si4 = mf_si4.mo_energy\n",
        "y_si5 = mf_si5.mo_energy\n",
        "y_si6 = mf_si6.mo_energy\n",
        "y_si7 = mf_si7.mo_energy\n",
        "y_si8 = mf_si8.mo_energy\n",
        "\n",
        "x_si1 = np.repeat(0.0, len(y_si1))\n",
        "x_si2 = np.repeat(0.5, len(y_si2))\n",
        "x_si3 = np.repeat(1.0, len(y_si3))\n",
        "x_si4 = np.repeat(1.5, len(y_si4))\n",
        "x_si5 = np.repeat(2.0, len(y_si5))\n",
        "x_si6 = np.repeat(2.5, len(y_si6))\n",
        "x_si7 = np.repeat(3.0, len(y_si7))\n",
        "x_si8 = np.repeat(3.5, len(y_si8))\n",
        "\n",
        "fig = plt.figure(figsize=(8,6), facecolor='white')\n",
        "ax = plt.axes(facecolor='white')\n",
        "ax.plot(x_si1, y_si1, 'k_', markersize=40, markeredgewidth=1)\n",
        "ax.plot(x_si2, y_si2, 'y_', markersize=40, markeredgewidth=1)\n",
        "ax.plot(x_si3, y_si3, '_', markersize=40, markeredgewidth=1)\n",
        "ax.plot(x_si4, y_si4, '_', markersize=40, markeredgewidth=1)\n",
        "ax.plot(x_si5, y_si5, '_', markersize=40, markeredgewidth=1)\n",
        "ax.plot(x_si6, y_si6, '_', markersize=40, markeredgewidth=1)\n",
        "ax.plot(x_si7, y_si7, '_', markersize=40, markeredgewidth=1)\n",
        "ax.plot(x_si8, y_si8, '_', markersize=40, markeredgewidth=1)\n",
        "ax.xaxis.set_visible(False)\n",
        "ax.set_ylim((-1,1))\n",
        "ax.set_xlim((-0.5,4.0))\n",
        "ax.spines['bottom'].set_color('white') \n",
        "ax.spines['top'].set_color('white') \n",
        "ax.spines['right'].set_color('white') \n",
        "ax.set_ylabel('$E_{elec}$ (eV)', weight ='normal', size = 16)\n",
        "plt.savefig('energy_orbitals.jpg',dpi=600,bbox_inches='tight' )\n",
        "plt.show()"
      ],
      "metadata": {
        "colab": {
          "base_uri": "https://localhost:8080/",
          "height": 512
        },
        "id": "uI6Qx0bUZCAJ",
        "outputId": "dec1c961-329a-4c12-ead3-b41f94d77448"
      },
      "execution_count": null,
      "outputs": [
        {
          "output_type": "display_data",
          "data": {
            "text/plain": [
              "<Figure size 800x600 with 1 Axes>"
            ],
            "image/png": "[encoded data removed]"
          },
          "metadata": {}
        }
      ]
    },
    {
      "cell_type": "markdown",
      "source": [
        "# <font color='blue'>**Molecular Dynamics - NVE**</font> "
      ],
      "metadata": {
        "id": "Y5K0EsAcLWM4"
      }
    },
    {
      "cell_type": "markdown",
      "source": [
        "### **Ergodic Hypothesis**\n",
        "\n",
        "\n",
        "$$ \\lim_{t → ∞} \\dfrac{1}{t} \\int_0^t f(\\omega(t)) dt = \\int_{\\Omega} f(\\omega) P(\\omega) d\\omega$$\n",
        "\n",
        "\n",
        "Average along a long trajectory is equal to average over all possible states. Where $\\omega (t)$ is the state variable (configuration at time), $\\Omega$ is the state space (set of possible configurations), $f(\\omega (t))$ is the observable, and $P(\\omega)$ is the Probability Density Function. \n",
        "\n",
        "Non-ergodic process depends on trajectory. \n",
        "\n",
        "*NVE ensemble:* Microcanonic ensemble, N, V, E constant. \n",
        "\n"
      ],
      "metadata": {
        "id": "zpbSFqUjLcka"
      }
    },
    {
      "cell_type": "markdown",
      "source": [
        "### **Time integrators**\n",
        "\n",
        "Taylor serie: \n",
        "\n",
        "$$  f(t) = f(t) + \\bigg (\\dfrac{df}{dt} \\bigg)_{t_0} (t-t_0) + \\dfrac{1}{2!} \\bigg (\\dfrac{df}{dt} \\bigg)_{t_0}^2 (t-t_0)^2 +  \\cdots $$\n",
        "\n",
        "Usually, $\\Delta t = 1$ fs produces good results. \n",
        "\n",
        "The MD module in PySCF supports the Velocity-Verlet integration scheme in the NVE ensemble. The positions are evolved according to:\n",
        "\n",
        "$$ \\mathbf{r}(t_{i+1}) = \\mathbf{r}(t_i) + (\\delta t) \\mathbf{v}(t_i) + \\frac{1}{2}(\\delta t)^2 \\mathbf{a}(t_i)  $$\n",
        "\n",
        "and the velocities are evolved as \n",
        "\n",
        "$$\\mathbf{v}(t_{i+1}) = \\mathbf{v}(t_i) + (\\delta t) \\frac{\\mathbf{a}(t_{i+1}) + \\mathbf{a}(t_i)}{2}$$"
      ],
      "metadata": {
        "id": "z_QG4h7BEgZ0"
      }
    },
    {
      "cell_type": "code",
      "source": [
        "import numpy as np\n",
        "\n",
        "natom = 4  # Number of atoms\n",
        "\n",
        "# Create a 2D array with shape (natm, 3)\n",
        "#array_2d = np.array(np.random.randn(natm, 3))  #size is rows and columns\n",
        "array_2d = np.random.uniform(0.0, 1.0, size=(natom, 3))"
      ],
      "metadata": {
        "id": "FyULLhZrRyua"
      },
      "execution_count": null,
      "outputs": []
    },
    {
      "cell_type": "code",
      "source": [
        "#!/usr/bin/env python\n",
        "\n",
        "'''\n",
        "A simple example to run an NVE BOMD simulation.\n",
        "'''\n",
        "\n",
        "import pyscf.md\n",
        "\n",
        "\n",
        "# Runnig the molecyular dynamics\n",
        "myintegrator = pyscf.md.NVE(mf_pbe,\n",
        "                            dt=41,  # Atomic Units of time\n",
        "                            steps=10,\n",
        "                            veloc = array_2d,\n",
        "                            energy_output=\"BOMD.md.energies\",\n",
        "                            trajectory_output=\"BOMD.md.xyz\").run()\n",
        "\n",
        "# Close the file streams for the energy and trajectory.\n",
        "myintegrator.energy_output.close()\n",
        "myintegrator.trajectory_output.close()"
      ],
      "metadata": {
        "colab": {
          "base_uri": "https://localhost:8080/",
          "height": 1000
        },
        "id": "i1B9GebjMfU9",
        "outputId": "d703766d-ac58-4bb7-ed01-d2e141ec120a"
      },
      "execution_count": null,
      "outputs": [
        {
          "output_type": "stream",
          "name": "stdout",
          "text": [
            "overwrite energy output file: BOMD.md.energies\n",
            "overwrite energy output file: BOMD.md.xyz\n",
            "\n",
            "BOMD Time 0.00\n",
            "converged SCF energy = -1157.18791512674\n",
            "--------------- SCF_Scanner gradients ---------------\n",
            "         x                y                z\n",
            "0 Si     0.0000000000     0.0000000000     0.0000214340\n",
            "1 Si     0.0000000000     0.0000000000    -0.0000214340\n",
            "2 Si     0.0000000000     0.0000146944     0.0000000000\n",
            "3 Si     0.0000000000    -0.0000146944     0.0000000000\n",
            "----------------------------------------------\n",
            "----------- VelocityVerlet final geometry -----------\n",
            "         x                y                z\n",
            "0 Si     0.0000000000     0.0000000000     3.8946831373\n",
            "1 Si     0.0000000000     0.0000000000    -3.8946831373\n",
            "2 Si     0.0000000000     2.4319838297     0.0000000000\n",
            "3 Si     0.0000000000    -2.4319838297     0.0000000000\n",
            "----------------------------------------------\n",
            "------------ VelocityVerlet final velocity -----------\n",
            "         x                y                z\n",
            "0 Si     0.2590213192     0.6775867288     0.8964226456\n",
            "1 Si     0.3376338564     0.8405879825     0.2654117333\n",
            "2 Si     0.6765839565     0.7744350809     0.8371518782\n",
            "3 Si     0.2198256175     0.2205725821     0.6137258563\n",
            "----------------------------------------------\n",
            "Ekin = 113543.5480048295285\n",
            "Epot = -1157.1879151267372\n",
            "Etot = 112386.3600897027936\n",
            "\n",
            "BOMD Time 41.00\n",
            "\n",
            "WARN: Large deviations found between the input molecule and the molecule from chkfile\n",
            "Initial guess density matrix may have large error.\n",
            "\n",
            "SCF not converged.\n",
            "SCF energy = -1045.78281864087\n",
            "--------------- SCF_Scanner gradients ---------------\n",
            "         x                y                z\n",
            "0 Si     0.0433556711     0.0727424906     0.0137942390\n",
            "1 Si     0.0125595100     0.0324535862     0.0053398047\n",
            "2 Si    -0.0237845631     0.0180455259     0.0094714039\n",
            "3 Si    -0.0321266340    -0.1232438982    -0.0286081114\n",
            "----------------------------------------------\n"
          ]
        },
        {
          "output_type": "error",
          "ename": "RuntimeError",
          "evalue": "ignored",
          "traceback": [
            "\u001b[0;31m---------------------------------------------------------------------------\u001b[0m",
            "\u001b[0;31mRuntimeError\u001b[0m                              Traceback (most recent call last)",
            "\u001b[0;32m<ipython-input-46-85aab46058e5>\u001b[0m in \u001b[0;36m<cell line: 11>\u001b[0;34m()\u001b[0m\n\u001b[1;32m     14\u001b[0m                             \u001b[0mveloc\u001b[0m \u001b[0;34m=\u001b[0m \u001b[0marray_2d\u001b[0m\u001b[0;34m,\u001b[0m\u001b[0;34m\u001b[0m\u001b[0;34m\u001b[0m\u001b[0m\n\u001b[1;32m     15\u001b[0m                             \u001b[0menergy_output\u001b[0m\u001b[0;34m=\u001b[0m\u001b[0;34m\"BOMD.md.energies\"\u001b[0m\u001b[0;34m,\u001b[0m\u001b[0;34m\u001b[0m\u001b[0;34m\u001b[0m\u001b[0m\n\u001b[0;32m---> 16\u001b[0;31m                             trajectory_output=\"BOMD.md.xyz\").run()\n\u001b[0m\u001b[1;32m     17\u001b[0m \u001b[0;34m\u001b[0m\u001b[0m\n\u001b[1;32m     18\u001b[0m \u001b[0;31m# Close the file streams for the energy and trajectory.\u001b[0m\u001b[0;34m\u001b[0m\u001b[0;34m\u001b[0m\u001b[0m\n",
            "\u001b[0;32m/usr/local/lib/python3.10/dist-packages/pyscf/lib/misc.py\u001b[0m in \u001b[0;36mrun\u001b[0;34m(self, *args, **kwargs)\u001b[0m\n\u001b[1;32m    589\u001b[0m         '''\n\u001b[1;32m    590\u001b[0m         \u001b[0mself\u001b[0m\u001b[0;34m.\u001b[0m\u001b[0mset\u001b[0m\u001b[0;34m(\u001b[0m\u001b[0;34m**\u001b[0m\u001b[0mkwargs\u001b[0m\u001b[0;34m)\u001b[0m\u001b[0;34m\u001b[0m\u001b[0;34m\u001b[0m\u001b[0m\n\u001b[0;32m--> 591\u001b[0;31m         \u001b[0mself\u001b[0m\u001b[0;34m.\u001b[0m\u001b[0mkernel\u001b[0m\u001b[0;34m(\u001b[0m\u001b[0;34m*\u001b[0m\u001b[0margs\u001b[0m\u001b[0;34m)\u001b[0m\u001b[0;34m\u001b[0m\u001b[0;34m\u001b[0m\u001b[0m\n\u001b[0m\u001b[1;32m    592\u001b[0m         \u001b[0;32mreturn\u001b[0m \u001b[0mself\u001b[0m\u001b[0;34m\u001b[0m\u001b[0;34m\u001b[0m\u001b[0m\n\u001b[1;32m    593\u001b[0m \u001b[0;34m\u001b[0m\u001b[0m\n",
            "\u001b[0;32m/usr/local/lib/python3.10/dist-packages/pyscf/md/integrators.py\u001b[0m in \u001b[0;36mkernel\u001b[0;34m(self, veloc, steps, dump_flags, verbose)\u001b[0m\n\u001b[1;32m    303\u001b[0m             \u001b[0mself\u001b[0m\u001b[0;34m.\u001b[0m\u001b[0mdump_input\u001b[0m\u001b[0;34m(\u001b[0m\u001b[0;34m)\u001b[0m\u001b[0;34m\u001b[0m\u001b[0;34m\u001b[0m\u001b[0m\n\u001b[1;32m    304\u001b[0m \u001b[0;34m\u001b[0m\u001b[0m\n\u001b[0;32m--> 305\u001b[0;31m         \u001b[0;32mreturn\u001b[0m \u001b[0mkernel\u001b[0m\u001b[0;34m(\u001b[0m\u001b[0mself\u001b[0m\u001b[0;34m,\u001b[0m \u001b[0mverbose\u001b[0m\u001b[0;34m=\u001b[0m\u001b[0mlog\u001b[0m\u001b[0;34m)\u001b[0m\u001b[0;34m\u001b[0m\u001b[0;34m\u001b[0m\u001b[0m\n\u001b[0m\u001b[1;32m    306\u001b[0m \u001b[0;34m\u001b[0m\u001b[0m\n\u001b[1;32m    307\u001b[0m     \u001b[0;32mdef\u001b[0m \u001b[0mdump_input\u001b[0m\u001b[0;34m(\u001b[0m\u001b[0mself\u001b[0m\u001b[0;34m,\u001b[0m \u001b[0mverbose\u001b[0m\u001b[0;34m=\u001b[0m\u001b[0;32mNone\u001b[0m\u001b[0;34m)\u001b[0m\u001b[0;34m:\u001b[0m\u001b[0;34m\u001b[0m\u001b[0;34m\u001b[0m\u001b[0m\n",
            "\u001b[0;32m/usr/local/lib/python3.10/dist-packages/pyscf/md/integrators.py\u001b[0m in \u001b[0;36mkernel\u001b[0;34m(integrator, verbose)\u001b[0m\n\u001b[1;32m    101\u001b[0m     \u001b[0;31m# Begin the iterations to run molecular dynamics\u001b[0m\u001b[0;34m\u001b[0m\u001b[0;34m\u001b[0m\u001b[0m\n\u001b[1;32m    102\u001b[0m     \u001b[0mt1\u001b[0m \u001b[0;34m=\u001b[0m \u001b[0mt0\u001b[0m\u001b[0;34m\u001b[0m\u001b[0;34m\u001b[0m\u001b[0m\n\u001b[0;32m--> 103\u001b[0;31m     \u001b[0;32mfor\u001b[0m \u001b[0miteration\u001b[0m\u001b[0;34m,\u001b[0m \u001b[0mframe\u001b[0m \u001b[0;32min\u001b[0m \u001b[0menumerate\u001b[0m\u001b[0;34m(\u001b[0m\u001b[0mintegrator\u001b[0m\u001b[0;34m)\u001b[0m\u001b[0;34m:\u001b[0m\u001b[0;34m\u001b[0m\u001b[0;34m\u001b[0m\u001b[0m\n\u001b[0m\u001b[1;32m    104\u001b[0m         log.note('----------- %s final geometry -----------',\n\u001b[1;32m    105\u001b[0m                  integrator.__class__.__name__)\n",
            "\u001b[0;32m/usr/local/lib/python3.10/dist-packages/pyscf/md/integrators.py\u001b[0m in \u001b[0;36m__next__\u001b[0;34m(self)\u001b[0m\n\u001b[1;32m    355\u001b[0m                 \u001b[0mself\u001b[0m\u001b[0;34m.\u001b[0m\u001b[0m_log\u001b[0m\u001b[0;34m.\u001b[0m\u001b[0mnote\u001b[0m\u001b[0;34m(\u001b[0m\u001b[0;34m'\\nBOMD Time %.2f'\u001b[0m\u001b[0;34m,\u001b[0m \u001b[0mself\u001b[0m\u001b[0;34m.\u001b[0m\u001b[0mtime\u001b[0m\u001b[0;34m)\u001b[0m\u001b[0;34m\u001b[0m\u001b[0;34m\u001b[0m\u001b[0m\n\u001b[1;32m    356\u001b[0m \u001b[0;34m\u001b[0m\u001b[0m\n\u001b[0;32m--> 357\u001b[0;31m             \u001b[0mcurrent_frame\u001b[0m \u001b[0;34m=\u001b[0m \u001b[0mself\u001b[0m\u001b[0;34m.\u001b[0m\u001b[0m_next\u001b[0m\u001b[0;34m(\u001b[0m\u001b[0;34m)\u001b[0m\u001b[0;34m\u001b[0m\u001b[0;34m\u001b[0m\u001b[0m\n\u001b[0m\u001b[1;32m    358\u001b[0m \u001b[0;34m\u001b[0m\u001b[0m\n\u001b[1;32m    359\u001b[0m             \u001b[0;32mif\u001b[0m \u001b[0mself\u001b[0m\u001b[0;34m.\u001b[0m\u001b[0mincore_anyway\u001b[0m\u001b[0;34m:\u001b[0m\u001b[0;34m\u001b[0m\u001b[0;34m\u001b[0m\u001b[0m\n",
            "\u001b[0;32m/usr/local/lib/python3.10/dist-packages/pyscf/md/integrators.py\u001b[0m in \u001b[0;36m_next\u001b[0;34m(self)\u001b[0m\n\u001b[1;32m    463\u001b[0m             \u001b[0mself\u001b[0m\u001b[0;34m.\u001b[0m\u001b[0mmol\u001b[0m\u001b[0;34m.\u001b[0m\u001b[0mset_geom_\u001b[0m\u001b[0;34m(\u001b[0m\u001b[0mself\u001b[0m\u001b[0;34m.\u001b[0m\u001b[0m_next_geometry\u001b[0m\u001b[0;34m(\u001b[0m\u001b[0;34m)\u001b[0m\u001b[0;34m,\u001b[0m \u001b[0munit\u001b[0m\u001b[0;34m=\u001b[0m\u001b[0;34m'B'\u001b[0m\u001b[0;34m)\u001b[0m\u001b[0;34m\u001b[0m\u001b[0;34m\u001b[0m\u001b[0m\n\u001b[1;32m    464\u001b[0m             \u001b[0mself\u001b[0m\u001b[0;34m.\u001b[0m\u001b[0mmol\u001b[0m\u001b[0;34m.\u001b[0m\u001b[0mbuild\u001b[0m\u001b[0;34m(\u001b[0m\u001b[0;34m)\u001b[0m\u001b[0;34m\u001b[0m\u001b[0;34m\u001b[0m\u001b[0m\n\u001b[0;32m--> 465\u001b[0;31m             \u001b[0mnext_epot\u001b[0m\u001b[0;34m,\u001b[0m \u001b[0mnext_accel\u001b[0m \u001b[0;34m=\u001b[0m \u001b[0mself\u001b[0m\u001b[0;34m.\u001b[0m\u001b[0m_compute_accel\u001b[0m\u001b[0;34m(\u001b[0m\u001b[0;34m)\u001b[0m\u001b[0;34m\u001b[0m\u001b[0;34m\u001b[0m\u001b[0m\n\u001b[0m\u001b[1;32m    466\u001b[0m             \u001b[0mself\u001b[0m\u001b[0;34m.\u001b[0m\u001b[0mveloc\u001b[0m \u001b[0;34m=\u001b[0m \u001b[0mself\u001b[0m\u001b[0;34m.\u001b[0m\u001b[0m_next_velocity\u001b[0m\u001b[0;34m(\u001b[0m\u001b[0mnext_accel\u001b[0m\u001b[0;34m)\u001b[0m\u001b[0;34m\u001b[0m\u001b[0;34m\u001b[0m\u001b[0m\n\u001b[1;32m    467\u001b[0m \u001b[0;34m\u001b[0m\u001b[0m\n",
            "\u001b[0;32m/usr/local/lib/python3.10/dist-packages/pyscf/md/integrators.py\u001b[0m in \u001b[0;36m_compute_accel\u001b[0;34m(self)\u001b[0m\n\u001b[1;32m    477\u001b[0m         \u001b[0me_tot\u001b[0m\u001b[0;34m,\u001b[0m \u001b[0mgrad\u001b[0m \u001b[0;34m=\u001b[0m \u001b[0mself\u001b[0m\u001b[0;34m.\u001b[0m\u001b[0mscanner\u001b[0m\u001b[0;34m(\u001b[0m\u001b[0mself\u001b[0m\u001b[0;34m.\u001b[0m\u001b[0mmol\u001b[0m\u001b[0;34m)\u001b[0m\u001b[0;34m\u001b[0m\u001b[0;34m\u001b[0m\u001b[0m\n\u001b[1;32m    478\u001b[0m         \u001b[0;32mif\u001b[0m \u001b[0;32mnot\u001b[0m \u001b[0mself\u001b[0m\u001b[0;34m.\u001b[0m\u001b[0mscanner\u001b[0m\u001b[0;34m.\u001b[0m\u001b[0mconverged\u001b[0m\u001b[0;34m:\u001b[0m\u001b[0;34m\u001b[0m\u001b[0;34m\u001b[0m\u001b[0m\n\u001b[0;32m--> 479\u001b[0;31m             \u001b[0;32mraise\u001b[0m \u001b[0mRuntimeError\u001b[0m\u001b[0;34m(\u001b[0m\u001b[0;34m'Gradients did not converge!'\u001b[0m\u001b[0;34m)\u001b[0m\u001b[0;34m\u001b[0m\u001b[0;34m\u001b[0m\u001b[0m\n\u001b[0m\u001b[1;32m    480\u001b[0m \u001b[0;34m\u001b[0m\u001b[0m\n\u001b[1;32m    481\u001b[0m         \u001b[0ma\u001b[0m \u001b[0;34m=\u001b[0m \u001b[0;34m-\u001b[0m\u001b[0;36m1\u001b[0m \u001b[0;34m*\u001b[0m \u001b[0mgrad\u001b[0m \u001b[0;34m/\u001b[0m \u001b[0mself\u001b[0m\u001b[0;34m.\u001b[0m\u001b[0m_masses\u001b[0m\u001b[0;34m.\u001b[0m\u001b[0mreshape\u001b[0m\u001b[0;34m(\u001b[0m\u001b[0;34m-\u001b[0m\u001b[0;36m1\u001b[0m\u001b[0;34m,\u001b[0m \u001b[0;36m1\u001b[0m\u001b[0;34m)\u001b[0m\u001b[0;34m\u001b[0m\u001b[0;34m\u001b[0m\u001b[0m\n",
            "\u001b[0;31mRuntimeError\u001b[0m: Gradients did not converge!"
          ]
        }
      ]
    },
    {
      "cell_type": "code",
      "source": [
        "import numpy as np\n",
        "import matplotlib.pyplot as plt\n",
        "from matplotlib.lines import Line2D\n",
        "import matplotlib.ticker as ticker\n",
        "\n",
        "md_out=np.loadtxt(\"/content/gdrive/MyDrive/Colab Notebooks/BOMD_350.md.energies\",skiprows=1)\n",
        "\n",
        "time = md_out[:,0]/41\n",
        "energy = md_out[:,3]\n",
        "\n",
        "energy_min = np.argmin(energy)\n",
        "energy_max = np.argmax(energy)\n",
        "\n",
        "\n",
        "plt.figure(figsize=(6,4))\n",
        "plt.plot(time, energy, '-k', linewidth=2)\n",
        "plt.plot(energy_min, min(energy), 'or', markersize=5)\n",
        "plt.plot(energy_max, max(energy), 'or', markersize=5)\n",
        "plt.xlabel('Time (fs)', weight = 'normal', size = 14)\n",
        "plt.ylabel('Energy (eV)', weight ='normal', size = 14)\n",
        "plt.ylim((-1157.1825,-1157.18244))\n",
        "plt.xlim((0,350))\n",
        "plt.rc('xtick',labelsize=10)\n",
        "plt.rc('ytick',labelsize=10)\n",
        "#plt.annotate('min',size=9, color='red', xy=(x_min,min(energy)), xytext=(x_min,min(energy)- 0.000004),horizontalalignment='center', verticalalignment='bottom')\n",
        "#plt.annotate('max',size=9, color='red', xy=(x_max,max(energy)), xytext=(x_max,max(energy)+0.000001),horizontalalignment='center', verticalalignment='bottom')\n",
        "plt.gca().yaxis.set_major_formatter(ticker.StrMethodFormatter('{x: .5f}')) # 5 decimal places\n",
        "plt.savefig('md_energy.jpg',dpi=600,bbox_inches='tight' )\n",
        "plt.show()"
      ],
      "metadata": {
        "id": "BQNWkUowtWFD",
        "colab": {
          "base_uri": "https://localhost:8080/",
          "height": 398
        },
        "outputId": "cf41390c-c793-4722-cd9c-401d81ab7544"
      },
      "execution_count": null,
      "outputs": [
        {
          "output_type": "display_data",
          "data": {
            "text/plain": [
              "<Figure size 600x400 with 1 Axes>"
            ],
            "image/png": "[encoded data removed]"
          },
          "metadata": {}
        }
      ]
    },
    {
      "cell_type": "code",
      "source": [
        "kin = md_out[:,2]\n",
        "\n",
        "x_min = np.argmin(kin)\n",
        "x_max = np.argmax(kin)\n",
        "\n",
        "plt.figure(figsize=(6,4))\n",
        "plt.plot(time, kin, '-b', linewidth=2)\n",
        "plt.plot(x_min, min(kin), 'or', markersize=5)\n",
        "plt.plot(x_max, max(kin), 'or', markersize=5)\n",
        "plt.xlabel('Time (fs)', weight = 'normal', size = 14)\n",
        "plt.ylabel('E$_k$ (eV)', weight ='normal', size = 14)\n",
        "plt.ylim((0.00,0.01))\n",
        "plt.xlim((0,350))\n",
        "plt.rc('xtick',labelsize=10)\n",
        "plt.rc('ytick',labelsize=10)\n",
        "#plt.annotate('min',size=9, color='red', xy=(x_min,min(energy)), xytext=(x_min,min(energy)- 0.000004),horizontalalignment='center', verticalalignment='bottom')\n",
        "#plt.annotate('max',size=9, color='red', xy=(x_max,max(energy)), xytext=(x_max,max(energy)+0.000001),horizontalalignment='center', verticalalignment='bottom')\n",
        "plt.gca().yaxis.set_major_formatter(ticker.StrMethodFormatter('{x: .3f}')) # 3 decimal places\n",
        "plt.savefig('md_kin.jpg',dpi=600,bbox_inches='tight' )\n",
        "plt.show()"
      ],
      "metadata": {
        "colab": {
          "base_uri": "https://localhost:8080/",
          "height": 398
        },
        "id": "ptXFj3vu27k2",
        "outputId": "90b80bff-192b-483d-896d-15ddb4c0272c"
      },
      "execution_count": null,
      "outputs": [
        {
          "output_type": "display_data",
          "data": {
            "text/plain": [
              "<Figure size 600x400 with 1 Axes>"
            ],
            "image/png": "[encoded data removed]"
          },
          "metadata": {}
        }
      ]
    },
    {
      "cell_type": "code",
      "source": [
        "pot = md_out[:,1]\n",
        "\n",
        "x_min = np.argmin(pot)\n",
        "x_max = np.argmax(pot)\n",
        "\n",
        "plt.figure(figsize=(6,4))\n",
        "plt.plot(time, pot, '-b', linewidth=2)\n",
        "plt.plot(x_min, min(pot), 'or', markersize=5)\n",
        "plt.plot(x_max, max(pot), 'or', markersize=5)\n",
        "plt.xlabel('Time (fs)', weight = 'normal', size = 14)\n",
        "plt.ylabel('E$_p$ (eV)', weight ='normal', size = 14)\n",
        "plt.ylim((-1157.19,-1157.18))\n",
        "plt.xlim((0,350))\n",
        "plt.rc('xtick',labelsize=10)\n",
        "plt.rc('ytick',labelsize=10)\n",
        "#plt.annotate('min',size=9, color='red', xy=(x_min,min(energy)), xytext=(x_min,min(energy)- 0.000004),horizontalalignment='center', verticalalignment='bottom')\n",
        "#plt.annotate('max',size=9, color='red', xy=(x_max,max(energy)), xytext=(x_max,max(energy)+0.000001),horizontalalignment='center', verticalalignment='bottom')\n",
        "plt.gca().yaxis.set_major_formatter(ticker.StrMethodFormatter('{x: .3f}')) # 3 decimal places\n",
        "plt.savefig('md_pot.jpg',dpi=600,bbox_inches='tight' )\n",
        "plt.show()"
      ],
      "metadata": {
        "colab": {
          "base_uri": "https://localhost:8080/",
          "height": 398
        },
        "id": "uul8E8G8_VkU",
        "outputId": "9c7e3345-2fd9-4798-f984-bf60aebea119"
      },
      "execution_count": null,
      "outputs": [
        {
          "output_type": "display_data",
          "data": {
            "text/plain": [
              "<Figure size 600x400 with 1 Axes>"
            ],
            "image/png": "[encoded data removed]"
          },
          "metadata": {}
        }
      ]
    },
    {
      "cell_type": "code",
      "source": [],
      "metadata": {
        "id": "bGL4dr85F0CM"
      },
      "execution_count": null,
      "outputs": []
    }
  ]
}